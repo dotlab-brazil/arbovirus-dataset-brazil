{
  "nbformat": 4,
  "nbformat_minor": 0,
  "metadata": {
    "colab": {
      "name": "arbovirus-dataset-brazil.ipynb",
      "provenance": [],
      "authorship_tag": "ABX9TyNwylHyOqXa7RvNAFTDgnXG"
    },
    "kernelspec": {
      "name": "python3",
      "display_name": "Python 3"
    },
    "language_info": {
      "name": "python"
    }
  },
  "cells": [
    {
      "cell_type": "markdown",
      "metadata": {
        "id": "k4RE8yp9Sdio"
      },
      "source": [
        "# Arboviral disease record data - Dengue and Chikungunya, Brazil, 2013–2020\n",
        "\n",
        "This work presents a unified data set with clinical, sociodemographic, and laboratorial data on confirmed patients of Dengue and Chikungunya, as well as patients ruled out of infection from these diseases. The data is based on case notification data submitted to the Brazilian Information System for Notifiable Diseases, *Sistema de Informação de Agravo de Notificação* (SINAN), from 2013 to 2020. The original data set comprised 13,421,230 records and 118 attributes. Following a pre-processing process, a final data set of 7,632,542 records and 56 attributes was generated.\n",
        "\n",
        "The data set has a dictionary that can be seen in the links below, in Portuguese:\n",
        "- [common and sociodemographic data](http://portalsinan.saude.gov.br/images/documentos/Agravos/Notificacao_Individual/DIC_DADOS_NET---Notificao-Individual_rev.pdf)\n",
        "- [clinical and laboratory data](http://portalsinan.saude.gov.br/images/documentos/Agravos/Dengue/DIC_DADOS_ONLINE.pdf)\n",
        "\n",
        "The data set resulting from this project can be found [at this link](https://data.mendeley.com/datasets/2d3kr8zynf/2)."
      ]
    },
    {
      "cell_type": "markdown",
      "metadata": {
        "id": "RWgDEMAkY5x8"
      },
      "source": [
        "## Imports and data uploads\n",
        "\n",
        "Libraries needed for code execution."
      ]
    },
    {
      "cell_type": "code",
      "metadata": {
        "id": "EZmxzzepSaqs"
      },
      "source": [
        "# Imports\n",
        "import pandas as pd\n",
        "from collections import Counter\n",
        "\n",
        "# Path where the original data set is located\n",
        "path_data = \"path_to_data_in_your_computer\"\n",
        "\n",
        "path_save = \"path_to_save_the_data_in_your_computer\"\n",
        "\n",
        "df = pd.read_csv(path_data)\n",
        "df.shape"
      ],
      "execution_count": null,
      "outputs": []
    },
    {
      "cell_type": "markdown",
      "metadata": {
        "id": "OqwxXKl9alp8"
      },
      "source": [
        "## Pre processing"
      ]
    },
    {
      "cell_type": "markdown",
      "metadata": {
        "id": "5usk4WuOateL"
      },
      "source": [
        "### Correction of data\n",
        "\n",
        "Data that was confirmed as from Chikungunya, but not correctly marked in the CLASSI_FIN columnattribute."
      ]
    },
    {
      "cell_type": "code",
      "metadata": {
        "id": "VA10JEaEbLQi"
      },
      "source": [
        "df.loc[(df.RES_CHIKS1 == 1) & (df.CLASSI_FIN != 13), 'CLASSI_FIN'] = 13"
      ],
      "execution_count": null,
      "outputs": []
    },
    {
      "cell_type": "markdown",
      "metadata": {
        "id": "0NSL8M4ebOsP"
      },
      "source": [
        "### Null Data Removal\n",
        "\n",
        "Attributes that were over 60% of notifications null were removed."
      ]
    },
    {
      "cell_type": "code",
      "metadata": {
        "id": "uam7rPvKbtVF"
      },
      "source": [
        "df = df.loc[:, df.isnull().mean() < .60]\n",
        "df.shape"
      ],
      "execution_count": null,
      "outputs": []
    },
    {
      "cell_type": "markdown",
      "metadata": {
        "id": "XyX32_chb3gd"
      },
      "source": [
        "### Removing unnecessary attributes\n",
        "\n",
        "Removed attributes that would not be useful for the final result. Removed attributes are attributes related to system configuration or data that had the same value."
      ]
    },
    {
      "cell_type": "code",
      "metadata": {
        "id": "gB3RUbBiiyO0"
      },
      "source": [
        "df.drop(columns=[\"CS_FLXRET\", \"TP_SISTEMA\", \"CRITERIO\", \"TP_NOT\"], inplace=True)\n",
        "df.shape"
      ],
      "execution_count": null,
      "outputs": []
    },
    {
      "cell_type": "markdown",
      "metadata": {
        "id": "MHjHN2unjFL7"
      },
      "source": [
        "### Standardization of column values\n",
        "\n",
        "Standardize the unique values that have been entered in different ways."
      ]
    },
    {
      "cell_type": "code",
      "metadata": {
        "id": "66W6LpgIjETs"
      },
      "source": [
        "# The attribute ID_AGRAVO was inserted slightly differently in some fields.\n",
        "df.loc[df['ID_AGRAVO']=='A92.', 'ID_AGRAVO'] = 'A92'\n",
        "df.loc[df['ID_AGRAVO']=='A92.0', 'ID_AGRAVO'] = 'A92'\n",
        "df.loc[df['ID_AGRAVO']=='A920', 'ID_AGRAVO'] = 'A92'\n",
        "\n",
        "# DENGUE\n",
        "df.loc[df['CLASSI_FIN']==1, 'CLASSI_FIN'] = 'Dengue'\n",
        "df.loc[df['CLASSI_FIN']==2, 'CLASSI_FIN'] = 'Dengue'\n",
        "df.loc[df['CLASSI_FIN']==10, 'CLASSI_FIN'] = 'Dengue'\n",
        "df.loc[df['CLASSI_FIN']==11, 'CLASSI_FIN'] = 'Dengue'\n",
        "df.loc[df['CLASSI_FIN']==12, 'CLASSI_FIN'] = 'Dengue'\n",
        "\n",
        "# CHIKUNGUNYA\n",
        "df.loc[df['CLASSI_FIN']==13, 'CLASSI_FIN'] = 'Chikungunya'\n",
        "\n",
        "# Discarded/Inconclusive\n",
        "df.loc[df['CLASSI_FIN']==5, 'CLASSI_FIN'] = 'Discarded/Inconclusive'\n",
        "df.loc[df['CLASSI_FIN']==8, 'CLASSI_FIN'] = 'Discarded/Inconclusive'\n",
        "df.loc[df['CLASSI_FIN']==6, 'CLASSI_FIN'] = 'Discarded/Inconclusive'"
      ],
      "execution_count": null,
      "outputs": []
    },
    {
      "cell_type": "markdown",
      "metadata": {
        "id": "joD7b3ZxkeDu"
      },
      "source": [
        "### Null data padding with default values.\n",
        "\n",
        "The resulting attributes that still had null data were entered with the default values referring to the data dictionary."
      ]
    },
    {
      "cell_type": "code",
      "metadata": {
        "id": "dMuYNTz8k50-"
      },
      "source": [
        "# In these attributes, the value for \"not informed\" is 4.\n",
        "colunas_exames = [\n",
        "    \"RESUL_SORO\",\n",
        "    \"RESUL_NS1\",\n",
        "    \"RESUL_VI_N\",\n",
        "    \"RESUL_PCR_\",\n",
        "    \"HISTOPA_N\",\n",
        "    \"IMUNOH_N\"\n",
        "]\n",
        "for coluna in colunas_exames:\n",
        "    df.loc[df[coluna].isnull(), coluna] = 4\n",
        "\n",
        "# In the other attributes, the value of \"not informed\" is 9.\n",
        "for nome in df.columns:\n",
        "  df.loc[df[nome].isnull(), nome] = 9\n",
        "\n",
        "\n",
        "df.shape"
      ],
      "execution_count": null,
      "outputs": []
    },
    {
      "cell_type": "markdown",
      "metadata": {
        "id": "Eev4a6AZmGh8"
      },
      "source": [
        "### Transformation of values\n",
        "\n",
        "CS_SEXO attribute values have been transformed to numeric."
      ]
    },
    {
      "cell_type": "code",
      "metadata": {
        "id": "-UZr_4ifmBtW"
      },
      "source": [
        "df.loc[df['CS_SEXO'] == \"F\", 'CS_SEXO'] = 0\n",
        "df.loc[df['CS_SEXO']==\"M\", 'CS_SEXO'] = 1\n",
        "df.loc[df['CS_SEXO']==\"I\", 'CS_SEXO'] = 2\n",
        "df.shape"
      ],
      "execution_count": null,
      "outputs": []
    },
    {
      "cell_type": "markdown",
      "metadata": {
        "id": "pEbxyW1Kmckm"
      },
      "source": [
        "## Data set saving"
      ]
    },
    {
      "cell_type": "code",
      "metadata": {
        "id": "wpnIlyQwmkEN"
      },
      "source": [
        "df.to_csv(path_save, sep=\",\", index = False)"
      ],
      "execution_count": null,
      "outputs": []
    }
  ]
}